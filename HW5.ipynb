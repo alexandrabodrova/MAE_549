{
 "cells": [
  {
   "cell_type": "code",
   "execution_count": 1,
   "metadata": {},
   "outputs": [],
   "source": [
    "# A simple script that takes a picture, moves forward a little, takes another picture, moves back,\n",
    "# and then takes one more picture\n",
    "\n",
    "# importing the robot class\n",
    "from jetbot import Robot"
   ]
  },
  {
   "cell_type": "code",
   "execution_count": 2,
   "metadata": {},
   "outputs": [],
   "source": [
    "robot = Robot() # initializing class instance"
   ]
  },
  {
   "cell_type": "code",
   "execution_count": 4,
   "metadata": {},
   "outputs": [],
   "source": [
    "# importing and linking camera\n",
    "import traitlets\n",
    "import ipywidgets.widgets as widgets\n",
    "from jetbot import Camera, bgr8_to_jpeg\n",
    "\n",
    "camera = Camera.instance(width=224, height=224)\n",
    "image = widgets.Image(format='jpeg', width=224, height=224)  # this width and height doesn't necessarily have to match the camera\n",
    "camera_link = traitlets.dlink((camera, 'value'), (image, 'value'), transform=bgr8_to_jpeg)"
   ]
  },
  {
   "cell_type": "code",
   "execution_count": 5,
   "metadata": {},
   "outputs": [],
   "source": [
    "import os\n",
    "\n",
    "imag_dir = 'HW5_images'\n",
    "\n",
    "# we have this \"try/except\" statement because these next functions can throw an error if the directories exist already\n",
    "try:\n",
    "    os.makedirs(imag_dir)\n",
    "except FileExistsError:\n",
    "    print('Directories not created becasue they already exist')\n",
    "    \n",
    "from uuid import uuid1\n",
    "\n",
    "def save_snapshot(directory):\n",
    "    image_path = os.path.join(directory, str(uuid1()) + '.jpg')\n",
    "    with open(image_path, 'wb') as f:\n",
    "        f.write(image.value)"
   ]
  },
  {
   "cell_type": "code",
   "execution_count": 12,
   "metadata": {},
   "outputs": [],
   "source": [
    "# the code that actually does the moving and snapshot taking\n",
    "import time\n",
    "\n",
    "# take snapshot \n",
    "save_snapshot(imag_dir)\n",
    "time.sleep(0.5) # to have some buffer time before starting to move\n",
    "\n",
    "# move forward\n",
    "robot.forward(0.3)\n",
    "time.sleep(0.5)\n",
    "robot.stop()\n",
    "\n",
    "# take snapshot \n",
    "time.sleep(0.5) # to allow for a less blutty image if there is any inertia\n",
    "save_snapshot(imag_dir)\n",
    "\n",
    "\n",
    "# move back\n",
    "robot.backward(0.3)\n",
    "time.sleep(0.5)\n",
    "robot.stop()\n",
    "\n",
    "# take snapshot \n",
    "time.sleep(0.5) # to allow for a less blutty image if there is any inertia\n",
    "save_snapshot(imag_dir)\n"
   ]
  },
  {
   "cell_type": "code",
   "execution_count": 9,
   "metadata": {},
   "outputs": [],
   "source": []
  },
  {
   "cell_type": "code",
   "execution_count": null,
   "metadata": {},
   "outputs": [],
   "source": []
  }
 ],
 "metadata": {
  "kernelspec": {
   "display_name": "Python 3",
   "language": "python",
   "name": "python3"
  },
  "language_info": {
   "codemirror_mode": {
    "name": "ipython",
    "version": 3
   },
   "file_extension": ".py",
   "mimetype": "text/x-python",
   "name": "python",
   "nbconvert_exporter": "python",
   "pygments_lexer": "ipython3",
   "version": "3.6.9"
  }
 },
 "nbformat": 4,
 "nbformat_minor": 4
}
